{
 "cells": [
  {
   "cell_type": "code",
   "execution_count": 2,
   "id": "2665fc33-8d63-4230-a76a-2b4c7724a06b",
   "metadata": {},
   "outputs": [],
   "source": [
    "user_question = \"Was geschieht in der Vorweihnachtszeit in der Geschichte 'Der kleine Schmied'?\""
   ]
  },
  {
   "cell_type": "code",
   "execution_count": 4,
   "id": "3f17cd00-9008-4417-8b20-ea65dc0713d6",
   "metadata": {},
   "outputs": [
    {
     "ename": "TypeError",
     "evalue": "list indices must be integers or slices, not str",
     "output_type": "error",
     "traceback": [
      "\u001b[1;31m---------------------------------------------------------------------------\u001b[0m",
      "\u001b[1;31mTypeError\u001b[0m                                 Traceback (most recent call last)",
      "Cell \u001b[1;32mIn[4], line 21\u001b[0m\n\u001b[0;32m     18\u001b[0m response_json \u001b[38;5;241m=\u001b[39m response\u001b[38;5;241m.\u001b[39mjson()\n\u001b[0;32m     20\u001b[0m \u001b[38;5;66;03m# Zugriff auf die Inhalte\u001b[39;00m\n\u001b[1;32m---> 21\u001b[0m content \u001b[38;5;241m=\u001b[39m response_json[\u001b[38;5;124m'\u001b[39m\u001b[38;5;124mchoices\u001b[39m\u001b[38;5;124m'\u001b[39m][\u001b[38;5;241m0\u001b[39m][\u001b[38;5;124m'\u001b[39m\u001b[38;5;124mcontent\u001b[39m\u001b[38;5;124m'\u001b[39m]\n\u001b[0;32m     23\u001b[0m \u001b[38;5;66;03m# Antwort anzeigen\u001b[39;00m\n\u001b[0;32m     24\u001b[0m \u001b[38;5;28mprint\u001b[39m(\u001b[38;5;124mf\u001b[39m\u001b[38;5;124m\"\u001b[39m\u001b[38;5;124mAntwort: \u001b[39m\u001b[38;5;132;01m{\u001b[39;00mcontent\u001b[38;5;132;01m}\u001b[39;00m\u001b[38;5;124m\"\u001b[39m)\n",
      "\u001b[1;31mTypeError\u001b[0m: list indices must be integers or slices, not str"
     ]
    }
   ],
   "source": [
    "from llamaapi import LlamaAPI\n",
    "\n",
    "# Initialize the llamaapi with your api_token\n",
    "llama = LlamaAPI(\"LA-f0461f58f1794f6f93072f5f112bd7a44ca2c90adb1a4842a8dea42acb05317f\")\n",
    "\n",
    "# Define your API request\n",
    "api_request_json = {\n",
    "    \"messages\": [\n",
    "        {\"role\": \"system\", \"content\": f\"User Frage:{user_question}\"}\n",
    "    ],\n",
    "    \"stream\": False,\n",
    "}\n",
    "\n",
    "# Make request and handle the response\n",
    "response = llama.run(api_request_json)\n",
    "\n",
    "# Antwort als JSON extrahieren\n",
    "response_json = response.json()\n",
    "\n",
    "# Zugriff auf die Inhalte\n",
    "content = response_json['choices'][0]['message']['content']\n",
    "\n",
    "# Antwort anzeigen\n",
    "print(f\"Antwort: {content}\")\n"
   ]
  },
  {
   "cell_type": "code",
   "execution_count": null,
   "id": "6a5612b7-01dc-4161-8ce1-6b642ff777f3",
   "metadata": {},
   "outputs": [],
   "source": []
  }
 ],
 "metadata": {
  "kernelspec": {
   "display_name": "Python 3 (ipykernel)",
   "language": "python",
   "name": "python3"
  },
  "language_info": {
   "codemirror_mode": {
    "name": "ipython",
    "version": 3
   },
   "file_extension": ".py",
   "mimetype": "text/x-python",
   "name": "python",
   "nbconvert_exporter": "python",
   "pygments_lexer": "ipython3",
   "version": "3.12.4"
  }
 },
 "nbformat": 4,
 "nbformat_minor": 5
}
