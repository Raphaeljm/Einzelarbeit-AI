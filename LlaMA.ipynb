{
 "cells": [
  {
   "cell_type": "code",
   "execution_count": 1,
   "id": "2665fc33-8d63-4230-a76a-2b4c7724a06b",
   "metadata": {},
   "outputs": [],
   "source": [
    "user_question = \"Was geschieht in der Vorweihnachtszeit in der Geschichte 'Der kleine Schmied'?\""
   ]
  },
  {
   "cell_type": "code",
   "execution_count": 2,
   "id": "3f17cd00-9008-4417-8b20-ea65dc0713d6",
   "metadata": {},
   "outputs": [
    {
     "name": "stdout",
     "output_type": "stream",
     "text": [
      "Antwort: In der Geschichte \"Der kleine Schmied\" von Hans Christian Andersen geschieht folgendes in der Vorweihnachtszeit:\n",
      "\n",
      "Der kleine Schmied ist ein armer junger Mann, der in einem kleinen Dorf lebt. Er ist sehr fleißig und arbeitet jeden Tag, um sein Geld zu verdienen. Als Weihnachten naht, beginnt er, sich Sorgen zu machen, weil er nicht genug Geld hat, um seiner Mutter ein Ges\n"
     ]
    }
   ],
   "source": [
    "from llamaapi import LlamaAPI\n",
    "\n",
    "# Initialize the llamaapi with your api_token\n",
    "llama = LlamaAPI(\"LA-f0461f58f1794f6f93072f5f112bd7a44ca2c90adb1a4842a8dea42acb05317f\")\n",
    "\n",
    "# Define your API request\n",
    "api_request_json = {\n",
    "    \"messages\": [\n",
    "        {\"role\": \"system\", \"content\": f\"User Frage:{user_question}\"}\n",
    "    ],\n",
    "    \"stream\": False,\n",
    "}\n",
    "\n",
    "# Make request and handle the response\n",
    "response = llama.run(api_request_json)\n",
    "\n",
    "# Antwort als JSON extrahieren\n",
    "response_json = response.json()\n",
    "\n",
    "# Zugriff auf die Inhalte\n",
    "content = response_json['choices'][0]['message']['content']\n",
    "\n",
    "# Antwort anzeigen\n",
    "print(f\"Antwort: {content}\")\n"
   ]
  }
 ],
 "metadata": {
  "kernelspec": {
   "display_name": "Python 3 (ipykernel)",
   "language": "python",
   "name": "python3"
  },
  "language_info": {
   "codemirror_mode": {
    "name": "ipython",
    "version": 3
   },
   "file_extension": ".py",
   "mimetype": "text/x-python",
   "name": "python",
   "nbconvert_exporter": "python",
   "pygments_lexer": "ipython3",
   "version": "3.12.4"
  }
 },
 "nbformat": 4,
 "nbformat_minor": 5
}
