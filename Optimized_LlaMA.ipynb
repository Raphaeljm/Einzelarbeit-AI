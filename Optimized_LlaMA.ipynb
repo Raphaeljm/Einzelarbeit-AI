{
 "cells": [
  {
   "cell_type": "markdown",
   "id": "bbf2c554-b89b-4d66-9a67-9319f247108a",
   "metadata": {},
   "source": [
    "# LlaMA mit RAG"
   ]
  },
  {
   "cell_type": "code",
   "execution_count": 1,
   "id": "c7c7a887-52ed-49df-bc0d-004b3c45a22e",
   "metadata": {},
   "outputs": [],
   "source": [
    "user_question = \"Was geschieht in der Vorweihnachtszeit in der Geschichte 'Der kleine Schmied'?\""
   ]
  },
  {
   "cell_type": "code",
   "execution_count": 2,
   "id": "845bf638-9371-40f2-ae61-d7a9629452c0",
   "metadata": {},
   "outputs": [
    {
     "name": "stdout",
     "output_type": "stream",
     "text": [
      "WARNING:tensorflow:From C:\\Users\\rapha\\anaconda3\\Lib\\site-packages\\tf_keras\\src\\losses.py:2976: The name tf.losses.sparse_softmax_cross_entropy is deprecated. Please use tf.compat.v1.losses.sparse_softmax_cross_entropy instead.\n",
      "\n"
     ]
    }
   ],
   "source": [
    "from sentence_transformers import SentenceTransformer\n",
    "model = SentenceTransformer('distilbert-base-nli-mean-tokens')\n",
    "question_embedding = model.encode([user_question])"
   ]
  },
  {
   "cell_type": "code",
   "execution_count": 3,
   "id": "c97b846c-777b-447e-aab9-eef8cae03749",
   "metadata": {},
   "outputs": [],
   "source": [
    "import json\n",
    "import faiss\n",
    "import numpy as np\n",
    "\n",
    "# Mapping laden\n",
    "with open(\"segment_mapping.json\", \"r\", encoding=\"utf-8\") as f:\n",
    "    segment_mapping = json.load(f)\n",
    "\n",
    "# Anzahl der relevanten Segmente, die abgerufen werden sollen\n",
    "k = 40\n",
    "\n",
    "# FAISS-Index laden\n",
    "index = faiss.read_index(\"faiss_index.db\")\n",
    "\n",
    "# Suche durchführen\n",
    "D, I = index.search(np.array(question_embedding), k)\n",
    "\n",
    "# Relevante Texte anhand der IDs abrufen, -1 filtern\n",
    "relevant_segments = [segment_mapping[str(i)] for i in I[0] if i != -1]\n",
    "\n",
    "# Überprüfen, ob relevante Segmente gefunden wurden\n",
    "if not relevant_segments:\n",
    "    print(\"Keine relevanten Segmente gefunden.\")"
   ]
  },
  {
   "cell_type": "code",
   "execution_count": 4,
   "id": "2e1ffcd1-bf50-4501-b5c0-00bfb674589e",
   "metadata": {},
   "outputs": [],
   "source": [
    "# Relevante Segmente zu einem Kontextstring zusammenfassen\n",
    "context = \" \".join(relevant_segments)"
   ]
  },
  {
   "cell_type": "code",
   "execution_count": 5,
   "id": "5b5ff12e-1139-4370-94a2-81e8a19a424c",
   "metadata": {},
   "outputs": [],
   "source": [
    "# API-Anfrage mit Kontext vorbereiten\n",
    "api_request_json = {\n",
    "    \"messages\": [\n",
    "        {\n",
    "            \"role\": \"system\",\n",
    "            \"content\": (\n",
    "                f\"Hier ist zusätzlicher Kontext, falls du ihn für die Beantwortung von Fragen verwenden möchtest: {context}. \"\n",
    "                \"Falls der Kontext nicht relevant ist, antworte basierend auf deinem allgemeinen Wissen.\"\n",
    "            ),\n",
    "        },\n",
    "        {\"role\": \"user\", \"content\": user_question},\n",
    "    ],\n",
    "    \"stream\": False,\n",
    "}"
   ]
  },
  {
   "cell_type": "code",
   "execution_count": 10,
   "id": "a51450f8-217b-479a-abec-1f908565e5b2",
   "metadata": {},
   "outputs": [
    {
     "name": "stdout",
     "output_type": "stream",
     "text": [
      "[{'error': 'Failed to process your request. Please try again later. If you are processing a function, try using the new versions (e.g.Llama 3.2) for better function formatting.'}, 500]\n"
     ]
    },
    {
     "ename": "TypeError",
     "evalue": "list indices must be integers or slices, not str",
     "output_type": "error",
     "traceback": [
      "\u001b[1;31m---------------------------------------------------------------------------\u001b[0m",
      "\u001b[1;31mTypeError\u001b[0m                                 Traceback (most recent call last)",
      "Cell \u001b[1;32mIn[10], line 14\u001b[0m\n\u001b[0;32m     11\u001b[0m \u001b[38;5;28mprint\u001b[39m(response_json)\n\u001b[0;32m     13\u001b[0m \u001b[38;5;66;03m# Zugriff auf die Inhalte\u001b[39;00m\n\u001b[1;32m---> 14\u001b[0m content \u001b[38;5;241m=\u001b[39m response_json[\u001b[38;5;124m'\u001b[39m\u001b[38;5;124mchoices\u001b[39m\u001b[38;5;124m'\u001b[39m][\u001b[38;5;241m0\u001b[39m][\u001b[38;5;124m'\u001b[39m\u001b[38;5;124mmessage\u001b[39m\u001b[38;5;124m'\u001b[39m][\u001b[38;5;124m'\u001b[39m\u001b[38;5;124mcontent\u001b[39m\u001b[38;5;124m'\u001b[39m]\n\u001b[0;32m     16\u001b[0m \u001b[38;5;66;03m# Antwort anzeigen\u001b[39;00m\n\u001b[0;32m     17\u001b[0m \u001b[38;5;28mprint\u001b[39m(\u001b[38;5;124mf\u001b[39m\u001b[38;5;124m\"\u001b[39m\u001b[38;5;124mAntwort: \u001b[39m\u001b[38;5;132;01m{\u001b[39;00mcontent\u001b[38;5;132;01m}\u001b[39;00m\u001b[38;5;124m\"\u001b[39m)\n",
      "\u001b[1;31mTypeError\u001b[0m: list indices must be integers or slices, not str"
     ]
    }
   ],
   "source": [
    "from llamaapi import LlamaAPI\n",
    "\n",
    "llama = LlamaAPI(\"LA-1f39be01a6584f8e8e1a1dbdcdaa5ba2ed587c6ed29b4dd9896e1f2dfdc93d9d\")\n",
    "\n",
    "# Anfrage ausführen und Antwort verarbeiten\n",
    "response = llama.run(api_request_json)\n",
    "\n",
    "# Antwort als JSON extrahieren\n",
    "response_json = response.json()\n",
    "\n",
    "print(response_json)\n",
    "\n",
    "# Zugriff auf die Inhalte\n",
    "content = response_json['choices'][0]['message']['content']\n",
    "\n",
    "# Antwort anzeigen\n",
    "print(f\"Antwort: {content}\")\n"
   ]
  },
  {
   "cell_type": "code",
   "execution_count": null,
   "id": "9e3e7ea8-9ef8-43b5-854d-b51ee7a7c95b",
   "metadata": {},
   "outputs": [],
   "source": []
  }
 ],
 "metadata": {
  "kernelspec": {
   "display_name": "Python 3 (ipykernel)",
   "language": "python",
   "name": "python3"
  },
  "language_info": {
   "codemirror_mode": {
    "name": "ipython",
    "version": 3
   },
   "file_extension": ".py",
   "mimetype": "text/x-python",
   "name": "python",
   "nbconvert_exporter": "python",
   "pygments_lexer": "ipython3",
   "version": "3.12.4"
  }
 },
 "nbformat": 4,
 "nbformat_minor": 5
}
