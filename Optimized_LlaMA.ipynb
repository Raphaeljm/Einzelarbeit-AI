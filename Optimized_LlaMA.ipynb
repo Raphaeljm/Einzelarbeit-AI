{
 "cells": [
  {
   "cell_type": "markdown",
   "id": "bbf2c554-b89b-4d66-9a67-9319f247108a",
   "metadata": {},
   "source": [
    "# LlaMA mit RAG"
   ]
  },
  {
   "cell_type": "code",
   "execution_count": 1,
   "id": "c7c7a887-52ed-49df-bc0d-004b3c45a22e",
   "metadata": {},
   "outputs": [],
   "source": [
    "user_question = \"Was geschieht in der Vorweihnachtszeit in der Geschichte 'Der kleine Schmied'?\""
   ]
  },
  {
   "cell_type": "code",
   "execution_count": 2,
   "id": "845bf638-9371-40f2-ae61-d7a9629452c0",
   "metadata": {},
   "outputs": [
    {
     "name": "stdout",
     "output_type": "stream",
     "text": [
      "WARNING:tensorflow:From C:\\Users\\rapha\\anaconda3\\Lib\\site-packages\\tf_keras\\src\\losses.py:2976: The name tf.losses.sparse_softmax_cross_entropy is deprecated. Please use tf.compat.v1.losses.sparse_softmax_cross_entropy instead.\n",
      "\n"
     ]
    }
   ],
   "source": [
    "from sentence_transformers import SentenceTransformer\n",
    "model = SentenceTransformer('distilbert-base-nli-mean-tokens')\n",
    "question_embedding = model.encode([user_question])"
   ]
  },
  {
   "cell_type": "code",
   "execution_count": 3,
   "id": "c97b846c-777b-447e-aab9-eef8cae03749",
   "metadata": {},
   "outputs": [],
   "source": [
    "import json\n",
    "import faiss\n",
    "import numpy as np\n",
    "\n",
    "# Mapping laden\n",
    "with open(\"segment_mapping.json\", \"r\", encoding=\"utf-8\") as f:\n",
    "    segment_mapping = json.load(f)\n",
    "\n",
    "# Anzahl der relevanten Segmente, die abgerufen werden sollen\n",
    "k = 40\n",
    "\n",
    "# FAISS-Index laden\n",
    "index = faiss.read_index(\"faiss_index.db\")\n",
    "\n",
    "# Suche durchführen\n",
    "D, I = index.search(np.array(question_embedding), k)\n",
    "\n",
    "# Relevante Texte anhand der IDs abrufen, -1 filtern\n",
    "relevant_segments = [segment_mapping[str(i)] for i in I[0] if i != -1]\n",
    "\n",
    "# Überprüfen, ob relevante Segmente gefunden wurden\n",
    "if not relevant_segments:\n",
    "    print(\"Keine relevanten Segmente gefunden.\")"
   ]
  },
  {
   "cell_type": "code",
   "execution_count": 4,
   "id": "2e1ffcd1-bf50-4501-b5c0-00bfb674589e",
   "metadata": {},
   "outputs": [],
   "source": [
    "# Relevante Segmente zu einem Kontextstring zusammenfassen\n",
    "context = \" \".join(relevant_segments)"
   ]
  },
  {
   "cell_type": "code",
   "execution_count": 5,
   "id": "5b5ff12e-1139-4370-94a2-81e8a19a424c",
   "metadata": {},
   "outputs": [],
   "source": [
    "# API-Anfrage mit Kontext vorbereiten\n",
    "api_request_json = {\n",
    "    \"messages\": [\n",
    "        {\n",
    "            \"role\": \"system\",\n",
    "            \"content\": (\n",
    "                f\"Hier ist zusätzlicher Kontext, falls du ihn für die Beantwortung von Fragen verwenden möchtest: {context}. \"\n",
    "                \"Falls der Kontext nicht relevant ist, antworte basierend auf deinem allgemeinen Wissen.\"\n",
    "            ),\n",
    "        },\n",
    "        {\"role\": \"user\", \"content\": user_question},\n",
    "    ],\n",
    "    \"stream\": False,\n",
    "}"
   ]
  },
  {
   "cell_type": "code",
   "execution_count": 6,
   "id": "a51450f8-217b-479a-abec-1f908565e5b2",
   "metadata": {},
   "outputs": [
    {
     "name": "stdout",
     "output_type": "stream",
     "text": [
      "Antwort: In der Vorweihnachtszeit in der Geschichte \"Der kleine Schmied\" werden die Landwirte ihre Gerätschaften zum Überprüfen bringen, bevor sie geschärft und gerichtet werden müssen.\n"
     ]
    }
   ],
   "source": [
    "from llamaapi import LlamaAPI\n",
    "\n",
    "llama = LlamaAPI(\"LA-f0461f58f1794f6f93072f5f112bd7a44ca2c90adb1a4842a8dea42acb05317f\")\n",
    "\n",
    "# Anfrage ausführen und Antwort verarbeiten\n",
    "response = llama.run(api_request_json)\n",
    "\n",
    "# Antwort als JSON extrahieren\n",
    "response_json = response.json()\n",
    "\n",
    "# Zugriff auf die Inhalte\n",
    "content = response_json['choices'][0]['message']['content']\n",
    "\n",
    "# Antwort anzeigen\n",
    "print(f\"Antwort: {content}\")"
   ]
  }
 ],
 "metadata": {
  "kernelspec": {
   "display_name": "Python 3 (ipykernel)",
   "language": "python",
   "name": "python3"
  },
  "language_info": {
   "codemirror_mode": {
    "name": "ipython",
    "version": 3
   },
   "file_extension": ".py",
   "mimetype": "text/x-python",
   "name": "python",
   "nbconvert_exporter": "python",
   "pygments_lexer": "ipython3",
   "version": "3.12.4"
  }
 },
 "nbformat": 4,
 "nbformat_minor": 5
}
