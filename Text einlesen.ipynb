{
 "cells": [
  {
   "cell_type": "markdown",
   "id": "6d84b945-0568-47dd-9067-ace9a341e93a",
   "metadata": {},
   "source": [
    "# Text einlesen, encoden und als Enbeddings in Datenbank speichern"
   ]
  },
  {
   "cell_type": "code",
   "execution_count": 1,
   "id": "0e2b7014-55fa-4575-baf4-4f6c98c42864",
   "metadata": {},
   "outputs": [
    {
     "name": "stdout",
     "output_type": "stream",
     "text": [
      "WARNING:tensorflow:From C:\\Users\\rapha\\anaconda3\\Lib\\site-packages\\tf_keras\\src\\losses.py:2976: The name tf.losses.sparse_softmax_cross_entropy is deprecated. Please use tf.compat.v1.losses.sparse_softmax_cross_entropy instead.\n",
      "\n"
     ]
    }
   ],
   "source": [
    "import fitz  # PyMuPDF\n",
    "import tensorflow.compat.v1 as tf\n",
    "from sentence_transformers import SentenceTransformer\n",
    "import faiss\n",
    "import numpy as np\n",
    "import json"
   ]
  },
  {
   "cell_type": "code",
   "execution_count": 2,
   "id": "7757b2db-051d-445e-86a5-8392f9b22835",
   "metadata": {},
   "outputs": [
    {
     "name": "stdout",
     "output_type": "stream",
     "text": [
      "WARNING:tensorflow:From C:\\Users\\rapha\\AppData\\Local\\Temp\\ipykernel_24352\\2395461933.py:2: The name tf.disable_v2_behavior is deprecated. Please use tf.compat.v1.disable_v2_behavior instead.\n",
      "\n",
      "WARNING:tensorflow:From C:\\Users\\rapha\\anaconda3\\Lib\\site-packages\\tensorflow\\python\\compat\\v2_compat.py:98: disable_resource_variables (from tensorflow.python.ops.resource_variables_toggle) is deprecated and will be removed in a future version.\n",
      "Instructions for updating:\n",
      "non-resource variables are not supported in the long term\n"
     ]
    }
   ],
   "source": [
    "# PDF mit fitz PyMuPDF einlesen\n",
    "tf.disable_v2_behavior()\n",
    "\n",
    "def extract_text_from_pdf(pdf_path):\n",
    "    doc = fitz.open(pdf_path)\n",
    "    text = \"\"\n",
    "    for page in doc:\n",
    "        text += page.get_text()\n",
    "    doc.close()\n",
    "    return text\n",
    "\n",
    "pdf_path = \"C:/Users/rapha/Documents/Datascience/5. Semester/Artificial Intelligence/Einzelarbeit/Data/Der kleine Schmied.pdf\"\n",
    "extracted_text = extract_text_from_pdf(pdf_path)"
   ]
  },
  {
   "cell_type": "code",
   "execution_count": 3,
   "id": "e188564c-3189-4d84-95bc-20051f145553",
   "metadata": {},
   "outputs": [],
   "source": [
    "# Modell für das Encoding bestimmen\n",
    "model = SentenceTransformer('distilbert-base-nli-mean-tokens')\n",
    "\n",
    "# Text in kleinere Abschnitte aufteilen\n",
    "text_segments = extracted_text.split(\"\\n\")  \n",
    "embeddings = model.encode(text_segments)"
   ]
  },
  {
   "cell_type": "code",
   "execution_count": 4,
   "id": "acc80c6d-2658-4d61-8e53-8a0941d2cd9a",
   "metadata": {},
   "outputs": [],
   "source": [
    "# Embeddings in als Index in Datenbank schreiben\n",
    "dimension = embeddings.shape[1]\n",
    "index = faiss.IndexFlatL2(dimension)  # L2-Distanz\n",
    "index.add(np.array(embeddings))\n",
    "faiss.write_index(index, \"faiss_index.db\") \n",
    "\n",
    "# Mapping von Segment-IDs zum Text speichern\n",
    "segment_mapping = {i: text for i, text in enumerate(text_segments)}\n",
    "\n",
    "# Mapping als JSON speichern\n",
    "with open(\"segment_mapping.json\", \"w\", encoding=\"utf-8\") as f:\n",
    "    json.dump(segment_mapping, f)"
   ]
  }
 ],
 "metadata": {
  "kernelspec": {
   "display_name": "Python 3 (ipykernel)",
   "language": "python",
   "name": "python3"
  },
  "language_info": {
   "codemirror_mode": {
    "name": "ipython",
    "version": 3
   },
   "file_extension": ".py",
   "mimetype": "text/x-python",
   "name": "python",
   "nbconvert_exporter": "python",
   "pygments_lexer": "ipython3",
   "version": "3.12.4"
  }
 },
 "nbformat": 4,
 "nbformat_minor": 5
}
